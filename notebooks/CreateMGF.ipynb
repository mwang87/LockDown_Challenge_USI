{
 "cells": [
  {
   "cell_type": "code",
   "execution_count": 1,
   "metadata": {},
   "outputs": [],
   "source": [
    "import glob\n",
    "import os\n",
    "import pandas as pd"
   ]
  },
  {
   "cell_type": "code",
   "execution_count": 2,
   "metadata": {},
   "outputs": [
    {
     "data": {
      "text/plain": [
       "['../data/raw_data/MSMS/Challenge 1 MSMS.txt',\n",
       " '../data/raw_data/MSMS/Challenge 10 MSMS.txt',\n",
       " '../data/raw_data/MSMS/Challenge 11 MSMS.txt',\n",
       " '../data/raw_data/MSMS/Challenge 12 MSMS.txt',\n",
       " '../data/raw_data/MSMS/Challenge 13 MSMS.txt',\n",
       " '../data/raw_data/MSMS/Challenge 14 MSMS.txt',\n",
       " '../data/raw_data/MSMS/Challenge 15 MSMS.txt',\n",
       " '../data/raw_data/MSMS/Challenge 16 MSMS.txt',\n",
       " '../data/raw_data/MSMS/Challenge 17 MSMS.txt',\n",
       " '../data/raw_data/MSMS/Challenge 18 MSMS.txt',\n",
       " '../data/raw_data/MSMS/Challenge 19 MSMS.txt',\n",
       " '../data/raw_data/MSMS/Challenge 2 MSMS.txt',\n",
       " '../data/raw_data/MSMS/Challenge 20 MSMS.txt',\n",
       " '../data/raw_data/MSMS/Challenge 3 MSMS.txt',\n",
       " '../data/raw_data/MSMS/Challenge 4 MSMS.txt',\n",
       " '../data/raw_data/MSMS/Challenge 5 MSMS.txt',\n",
       " '../data/raw_data/MSMS/Challenge 6 MSMS.txt',\n",
       " '../data/raw_data/MSMS/Challenge 7 MSMS.txt',\n",
       " '../data/raw_data/MSMS/Challenge 8 MSMS.txt',\n",
       " '../data/raw_data/MSMS/Challenge 9 MSMS.txt']"
      ]
     },
     "execution_count": 2,
     "metadata": {},
     "output_type": "execute_result"
    }
   ],
   "source": [
    "MSMS_files = glob.glob(\"../data/raw_data/MSMS/*\")\n",
    "MSMS_files"
   ]
  },
  {
   "cell_type": "code",
   "execution_count": 3,
   "metadata": {},
   "outputs": [
    {
     "data": {
      "text/plain": [
       "['../data/raw_data/MS/Challenge 1 MS.txt',\n",
       " '../data/raw_data/MS/Challenge 10 MS.txt',\n",
       " '../data/raw_data/MS/Challenge 11 MS.txt',\n",
       " '../data/raw_data/MS/Challenge 12 MS.txt',\n",
       " '../data/raw_data/MS/Challenge 13 MS.txt',\n",
       " '../data/raw_data/MS/Challenge 14 MS.txt',\n",
       " '../data/raw_data/MS/Challenge 15 MS.txt',\n",
       " '../data/raw_data/MS/Challenge 16 MS.txt',\n",
       " '../data/raw_data/MS/Challenge 17 MS.txt',\n",
       " '../data/raw_data/MS/Challenge 18 MS.txt',\n",
       " '../data/raw_data/MS/Challenge 19 MS.txt',\n",
       " '../data/raw_data/MS/Challenge 2 M.txt',\n",
       " '../data/raw_data/MS/Challenge 2 MS.txt',\n",
       " '../data/raw_data/MS/Challenge 20 MS.txt',\n",
       " '../data/raw_data/MS/Challenge 3 MS.txt',\n",
       " '../data/raw_data/MS/Challenge 4 MS.txt',\n",
       " '../data/raw_data/MS/Challenge 5 MS.txt',\n",
       " '../data/raw_data/MS/Challenge 6 MS.txt',\n",
       " '../data/raw_data/MS/Challenge 7 MS.txt',\n",
       " '../data/raw_data/MS/Challenge 8 MS.txt',\n",
       " '../data/raw_data/MS/Challenge 9 MS.txt']"
      ]
     },
     "execution_count": 3,
     "metadata": {},
     "output_type": "execute_result"
    }
   ],
   "source": [
    "MS_files = glob.glob(\"../data/raw_data/MS/*\")\n",
    "MS_files"
   ]
  },
  {
   "cell_type": "code",
   "execution_count": 4,
   "metadata": {},
   "outputs": [],
   "source": [
    "for msms_file in MS_files:\n",
    "    output_filename = os.path.join(\"../data/mgf/MS/ms_{}\".format(os.path.basename(msms_file)).replace(\".txt\", \".mgf\"))\n",
    "    with open(output_filename, \"w\") as outfile:\n",
    "        outfile.write(\"BEGIN IONS\\nPEPMASS=280.70001\\nCHARGE=0+\\nMSLEVEL=2\\nTITLE=Scan Number: 1\\nSCANS=1\\n\")\n",
    "        for line in open(msms_file):\n",
    "            outfile.write(line)\n",
    "        outfile.write(\"\\nEND IONS\\n\")"
   ]
  },
  {
   "cell_type": "code",
   "execution_count": 5,
   "metadata": {},
   "outputs": [
    {
     "data": {
      "text/html": [
       "<div>\n",
       "<style scoped>\n",
       "    .dataframe tbody tr th:only-of-type {\n",
       "        vertical-align: middle;\n",
       "    }\n",
       "\n",
       "    .dataframe tbody tr th {\n",
       "        vertical-align: top;\n",
       "    }\n",
       "\n",
       "    .dataframe thead th {\n",
       "        text-align: right;\n",
       "    }\n",
       "</style>\n",
       "<table border=\"1\" class=\"dataframe\">\n",
       "  <thead>\n",
       "    <tr style=\"text-align: right;\">\n",
       "      <th></th>\n",
       "      <th>challenge</th>\n",
       "      <th>precursor</th>\n",
       "    </tr>\n",
       "  </thead>\n",
       "  <tbody>\n",
       "    <tr>\n",
       "      <th>0</th>\n",
       "      <td>Chellenge 1 MSMS.txt</td>\n",
       "      <td>466.2090</td>\n",
       "    </tr>\n",
       "    <tr>\n",
       "      <th>1</th>\n",
       "      <td>Chellenge 2 MSMS.txt</td>\n",
       "      <td>464.2274</td>\n",
       "    </tr>\n",
       "    <tr>\n",
       "      <th>2</th>\n",
       "      <td>Chellenge 3 MSMS.txt</td>\n",
       "      <td>369.1805</td>\n",
       "    </tr>\n",
       "    <tr>\n",
       "      <th>3</th>\n",
       "      <td>Chellenge 4 MSMS.txt</td>\n",
       "      <td>579.1515</td>\n",
       "    </tr>\n",
       "    <tr>\n",
       "      <th>4</th>\n",
       "      <td>Chellenge 5 MSMS.txt</td>\n",
       "      <td>353.1852</td>\n",
       "    </tr>\n",
       "    <tr>\n",
       "      <th>5</th>\n",
       "      <td>Chellenge 6 MSMS.txt</td>\n",
       "      <td>393.2070</td>\n",
       "    </tr>\n",
       "    <tr>\n",
       "      <th>6</th>\n",
       "      <td>Chellenge 7 MSMS.txt</td>\n",
       "      <td>269.0816</td>\n",
       "    </tr>\n",
       "    <tr>\n",
       "      <th>7</th>\n",
       "      <td>Chellenge 8 MSMS.txt</td>\n",
       "      <td>301.0720</td>\n",
       "    </tr>\n",
       "    <tr>\n",
       "      <th>8</th>\n",
       "      <td>Chellenge 9 MSMS.txt</td>\n",
       "      <td>363.1820</td>\n",
       "    </tr>\n",
       "    <tr>\n",
       "      <th>9</th>\n",
       "      <td>Chellenge 10 MSMS.txt</td>\n",
       "      <td>283.0615</td>\n",
       "    </tr>\n",
       "    <tr>\n",
       "      <th>10</th>\n",
       "      <td>Chellenge 11 MSMS.txt</td>\n",
       "      <td>339.1236</td>\n",
       "    </tr>\n",
       "    <tr>\n",
       "      <th>11</th>\n",
       "      <td>Chellenge 12 MSMS.txt</td>\n",
       "      <td>255.0770</td>\n",
       "    </tr>\n",
       "    <tr>\n",
       "      <th>12</th>\n",
       "      <td>Chellenge 13 MSMS.txt</td>\n",
       "      <td>328.1920</td>\n",
       "    </tr>\n",
       "    <tr>\n",
       "      <th>13</th>\n",
       "      <td>Chellenge 14 MSMS.txt</td>\n",
       "      <td>343.1541</td>\n",
       "    </tr>\n",
       "    <tr>\n",
       "      <th>14</th>\n",
       "      <td>Chellenge 15 MSMS.txt</td>\n",
       "      <td>231.1490</td>\n",
       "    </tr>\n",
       "    <tr>\n",
       "      <th>15</th>\n",
       "      <td>Chellenge 16 MSMS.txt</td>\n",
       "      <td>236.1655</td>\n",
       "    </tr>\n",
       "    <tr>\n",
       "      <th>16</th>\n",
       "      <td>Chellenge 17 MSMS.txt</td>\n",
       "      <td>395.1501</td>\n",
       "    </tr>\n",
       "    <tr>\n",
       "      <th>17</th>\n",
       "      <td>Chellenge 18 MSMS.txt</td>\n",
       "      <td>266.0897</td>\n",
       "    </tr>\n",
       "    <tr>\n",
       "      <th>18</th>\n",
       "      <td>Chellenge 19 MSMS.txt</td>\n",
       "      <td>577.1339</td>\n",
       "    </tr>\n",
       "    <tr>\n",
       "      <th>19</th>\n",
       "      <td>Chellenge 20 MSMS.txt</td>\n",
       "      <td>466.2640</td>\n",
       "    </tr>\n",
       "  </tbody>\n",
       "</table>\n",
       "</div>"
      ],
      "text/plain": [
       "                challenge  precursor\n",
       "0    Chellenge 1 MSMS.txt   466.2090\n",
       "1    Chellenge 2 MSMS.txt   464.2274\n",
       "2    Chellenge 3 MSMS.txt   369.1805\n",
       "3    Chellenge 4 MSMS.txt   579.1515\n",
       "4    Chellenge 5 MSMS.txt   353.1852\n",
       "5    Chellenge 6 MSMS.txt   393.2070\n",
       "6    Chellenge 7 MSMS.txt   269.0816\n",
       "7    Chellenge 8 MSMS.txt   301.0720\n",
       "8    Chellenge 9 MSMS.txt   363.1820\n",
       "9   Chellenge 10 MSMS.txt   283.0615\n",
       "10  Chellenge 11 MSMS.txt   339.1236\n",
       "11  Chellenge 12 MSMS.txt   255.0770\n",
       "12  Chellenge 13 MSMS.txt   328.1920\n",
       "13  Chellenge 14 MSMS.txt   343.1541\n",
       "14  Chellenge 15 MSMS.txt   231.1490\n",
       "15  Chellenge 16 MSMS.txt   236.1655\n",
       "16  Chellenge 17 MSMS.txt   395.1501\n",
       "17  Chellenge 18 MSMS.txt   266.0897\n",
       "18  Chellenge 19 MSMS.txt   577.1339\n",
       "19  Chellenge 20 MSMS.txt   466.2640"
      ]
     },
     "execution_count": 5,
     "metadata": {},
     "output_type": "execute_result"
    }
   ],
   "source": [
    "precursor_df = pd.read_csv(\"../data/raw_data/precursor_table.tsv\", sep=\"\\t\")\n",
    "precursor_df"
   ]
  },
  {
   "cell_type": "code",
   "execution_count": 7,
   "metadata": {},
   "outputs": [
    {
     "name": "stdout",
     "output_type": "stream",
     "text": [
      "466.209\n",
      "283.0615\n",
      "339.1236\n",
      "255.077\n",
      "328.19199999999995\n",
      "343.1541\n",
      "231.149\n",
      "236.1655\n",
      "395.1501\n",
      "266.0897\n",
      "577.1339\n",
      "464.2274\n",
      "466.264\n",
      "369.1805\n",
      "579.1515\n",
      "353.1852\n",
      "393.207\n",
      "269.0816\n",
      "301.072\n",
      "363.18199999999996\n"
     ]
    }
   ],
   "source": [
    "for msms_file in MSMS_files:\n",
    "    output_filename = os.path.join(\"../data/mgf/MSMS/msms_{}\".format(os.path.basename(msms_file)).replace(\".txt\", \".mgf\"))\n",
    "    precursor = precursor_df[precursor_df[\"challenge\"] == os.path.basename(msms_file).replace(\"Challenge\", \"Chellenge\")][\"precursor\"]\n",
    "    print(float(precursor))\n",
    "    with open(output_filename, \"w\") as outfile:\n",
    "        outfile.write(\"BEGIN IONS\\nPEPMASS={}\\nCHARGE=0+\\nMSLEVEL=2\\nTITLE=Scan Number: 1\\nSCANS=1\\n\".format(float(precursor)))\n",
    "        for line in open(msms_file):\n",
    "            outfile.write(line)\n",
    "        outfile.write(\"\\nEND IONS\\n\")\n",
    "        "
   ]
  },
  {
   "cell_type": "code",
   "execution_count": 21,
   "metadata": {},
   "outputs": [],
   "source": [
    "\n"
   ]
  },
  {
   "cell_type": "code",
   "execution_count": null,
   "metadata": {},
   "outputs": [],
   "source": []
  }
 ],
 "metadata": {
  "kernelspec": {
   "display_name": "Python 3",
   "language": "python",
   "name": "python3"
  },
  "language_info": {
   "codemirror_mode": {
    "name": "ipython",
    "version": 3
   },
   "file_extension": ".py",
   "mimetype": "text/x-python",
   "name": "python",
   "nbconvert_exporter": "python",
   "pygments_lexer": "ipython3",
   "version": "3.7.6"
  }
 },
 "nbformat": 4,
 "nbformat_minor": 4
}
