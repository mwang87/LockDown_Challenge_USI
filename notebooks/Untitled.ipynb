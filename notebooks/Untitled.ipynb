{
 "cells": [
  {
   "cell_type": "code",
   "execution_count": 8,
   "metadata": {},
   "outputs": [],
   "source": [
    "import glob\n",
    "import os"
   ]
  },
  {
   "cell_type": "code",
   "execution_count": 9,
   "metadata": {},
   "outputs": [
    {
     "data": {
      "text/plain": [
       "['../data/raw_data/MSMS/Challenge 1 MSMS.txt',\n",
       " '../data/raw_data/MSMS/Challenge 10 MSMS.txt',\n",
       " '../data/raw_data/MSMS/Challenge 11 MSMS.txt',\n",
       " '../data/raw_data/MSMS/Challenge 12 MSMS.txt',\n",
       " '../data/raw_data/MSMS/Challenge 13 MSMS.txt',\n",
       " '../data/raw_data/MSMS/Challenge 14 MSMS.txt',\n",
       " '../data/raw_data/MSMS/Challenge 15 MSMS.txt',\n",
       " '../data/raw_data/MSMS/Challenge 16 MSMS.txt',\n",
       " '../data/raw_data/MSMS/Challenge 2 MSMS.txt',\n",
       " '../data/raw_data/MSMS/Challenge 3 MSMS.txt',\n",
       " '../data/raw_data/MSMS/Challenge 4 MSMS.txt',\n",
       " '../data/raw_data/MSMS/Challenge 5 MSMS.txt',\n",
       " '../data/raw_data/MSMS/Challenge 6 MSMS.txt',\n",
       " '../data/raw_data/MSMS/Challenge 7 MSMS.txt',\n",
       " '../data/raw_data/MSMS/Challenge 8 MSMS.txt',\n",
       " '../data/raw_data/MSMS/Challenge 9 MSMS.txt']"
      ]
     },
     "execution_count": 9,
     "metadata": {},
     "output_type": "execute_result"
    }
   ],
   "source": [
    "MSMS_files = glob.glob(\"../data/raw_data/MSMS/*\")\n",
    "MSMS_files"
   ]
  },
  {
   "cell_type": "code",
   "execution_count": 10,
   "metadata": {},
   "outputs": [
    {
     "data": {
      "text/plain": [
       "['../data/raw_data/MS/Challenge 1 MS.txt',\n",
       " '../data/raw_data/MS/Challenge 10 MS.txt',\n",
       " '../data/raw_data/MS/Challenge 11 MS.txt',\n",
       " '../data/raw_data/MS/Challenge 12 MS.txt',\n",
       " '../data/raw_data/MS/Challenge 13 MS.txt',\n",
       " '../data/raw_data/MS/Challenge 14 MS.txt',\n",
       " '../data/raw_data/MS/Challenge 15 MS.txt',\n",
       " '../data/raw_data/MS/Challenge 16 MS.txt',\n",
       " '../data/raw_data/MS/Challenge 2 M.txt',\n",
       " '../data/raw_data/MS/Challenge 3 MS.txt',\n",
       " '../data/raw_data/MS/Challenge 4 MS.txt',\n",
       " '../data/raw_data/MS/Challenge 5 MS.txt',\n",
       " '../data/raw_data/MS/Challenge 6 MS.txt',\n",
       " '../data/raw_data/MS/Challenge 7 MS.txt',\n",
       " '../data/raw_data/MS/Challenge 8 MS.txt',\n",
       " '../data/raw_data/MS/Challenge 9 MS.txt']"
      ]
     },
     "execution_count": 10,
     "metadata": {},
     "output_type": "execute_result"
    }
   ],
   "source": [
    "MS_files = glob.glob(\"../data/raw_data/MS/*\")\n",
    "MS_files"
   ]
  },
  {
   "cell_type": "code",
   "execution_count": 20,
   "metadata": {},
   "outputs": [],
   "source": [
    "for msms_file in MSMS_files:\n",
    "    output_filename = os.path.join(\"../data/mgf/MSMS/msms_{}\".format(os.path.basename(msms_file)).replace(\".txt\", \".mgf\"))\n",
    "    with open(output_filename, \"w\") as outfile:\n",
    "        outfile.write(\"BEGIN IONS\\nPEPMASS=280.70001\\nCHARGE=0+\\nMSLEVEL=2\\nTITLE=Scan Number: 1\\nSCANS=1\\n\")\n",
    "        for line in open(msms_file):\n",
    "            outfile.write(line)\n",
    "        outfile.write(\"END IONS\\n\")\n",
    "        "
   ]
  },
  {
   "cell_type": "code",
   "execution_count": 21,
   "metadata": {},
   "outputs": [],
   "source": [
    "for msms_file in MS_files:\n",
    "    output_filename = os.path.join(\"../data/mgf/MS/ms_{}\".format(os.path.basename(msms_file)).replace(\".txt\", \".mgf\"))\n",
    "    with open(output_filename, \"w\") as outfile:\n",
    "        outfile.write(\"BEGIN IONS\\nPEPMASS=280.70001\\nCHARGE=0+\\nMSLEVEL=2\\nTITLE=Scan Number: 1\\nSCANS=1\\n\")\n",
    "        for line in open(msms_file):\n",
    "            outfile.write(line)\n",
    "        outfile.write(\"END IONS\\n\")\n"
   ]
  },
  {
   "cell_type": "code",
   "execution_count": null,
   "metadata": {},
   "outputs": [],
   "source": []
  }
 ],
 "metadata": {
  "kernelspec": {
   "display_name": "Python 3",
   "language": "python",
   "name": "python3"
  },
  "language_info": {
   "codemirror_mode": {
    "name": "ipython",
    "version": 3
   },
   "file_extension": ".py",
   "mimetype": "text/x-python",
   "name": "python",
   "nbconvert_exporter": "python",
   "pygments_lexer": "ipython3",
   "version": "3.7.6"
  }
 },
 "nbformat": 4,
 "nbformat_minor": 4
}
