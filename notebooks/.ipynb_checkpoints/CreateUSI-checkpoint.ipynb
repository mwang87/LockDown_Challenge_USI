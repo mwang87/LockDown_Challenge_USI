{
 "cells": [
  {
   "cell_type": "code",
   "execution_count": 6,
   "metadata": {},
   "outputs": [],
   "source": [
    "import pandas as pd\n",
    "import glob\n",
    "import os\n",
    "import urllib.parse\n"
   ]
  },
  {
   "cell_type": "code",
   "execution_count": 2,
   "metadata": {},
   "outputs": [
    {
     "data": {
      "text/plain": [
       "['../data/mgf/MSMS/msms_Challenge 1 MSMS.mgf',\n",
       " '../data/mgf/MSMS/msms_Challenge 10 MSMS.mgf',\n",
       " '../data/mgf/MSMS/msms_Challenge 11 MSMS.mgf',\n",
       " '../data/mgf/MSMS/msms_Challenge 12 MSMS.mgf',\n",
       " '../data/mgf/MSMS/msms_Challenge 13 MSMS.mgf',\n",
       " '../data/mgf/MSMS/msms_Challenge 14 MSMS.mgf',\n",
       " '../data/mgf/MSMS/msms_Challenge 15 MSMS.mgf',\n",
       " '../data/mgf/MSMS/msms_Challenge 16 MSMS.mgf',\n",
       " '../data/mgf/MSMS/msms_Challenge 2 MSMS.mgf',\n",
       " '../data/mgf/MSMS/msms_Challenge 3 MSMS.mgf',\n",
       " '../data/mgf/MSMS/msms_Challenge 4 MSMS.mgf',\n",
       " '../data/mgf/MSMS/msms_Challenge 5 MSMS.mgf',\n",
       " '../data/mgf/MSMS/msms_Challenge 6 MSMS.mgf',\n",
       " '../data/mgf/MSMS/msms_Challenge 7 MSMS.mgf',\n",
       " '../data/mgf/MSMS/msms_Challenge 8 MSMS.mgf',\n",
       " '../data/mgf/MSMS/msms_Challenge 9 MSMS.mgf']"
      ]
     },
     "execution_count": 2,
     "metadata": {},
     "output_type": "execute_result"
    }
   ],
   "source": [
    "MSMS_files = glob.glob(\"../data/mgf/MSMS/*\")\n",
    "MS_files = glob.glob(\"../data/mgf/MS/*\")\n",
    "MSMS_files"
   ]
  },
  {
   "cell_type": "code",
   "execution_count": 5,
   "metadata": {},
   "outputs": [
    {
     "ename": "NameError",
     "evalue": "name 'urllib' is not defined",
     "output_type": "error",
     "traceback": [
      "\u001b[0;31m---------------------------------------------------------------------------\u001b[0m",
      "\u001b[0;31mNameError\u001b[0m                                 Traceback (most recent call last)",
      "\u001b[0;32m<ipython-input-5-69e832283950>\u001b[0m in \u001b[0;36m<module>\u001b[0;34m\u001b[0m\n\u001b[1;32m      6\u001b[0m         \u001b[0mms1_usi\u001b[0m \u001b[0;34m=\u001b[0m \u001b[0mms2_usi\u001b[0m\u001b[0;34m.\u001b[0m\u001b[0mreplace\u001b[0m\u001b[0;34m(\u001b[0m\u001b[0;34m\"msms\"\u001b[0m\u001b[0;34m,\u001b[0m \u001b[0;34m\"ms\"\u001b[0m\u001b[0;34m)\u001b[0m\u001b[0;34m.\u001b[0m\u001b[0mreplace\u001b[0m\u001b[0;34m(\u001b[0m\u001b[0;34m\"MSMS\"\u001b[0m\u001b[0;34m,\u001b[0m \u001b[0;34m\"MS\"\u001b[0m\u001b[0;34m)\u001b[0m\u001b[0;34m\u001b[0m\u001b[0;34m\u001b[0m\u001b[0m\n\u001b[1;32m      7\u001b[0m \u001b[0;34m\u001b[0m\u001b[0m\n\u001b[0;32m----> 8\u001b[0;31m         \u001b[0mms2_usi\u001b[0m \u001b[0;34m=\u001b[0m \u001b[0murllib\u001b[0m\u001b[0;34m.\u001b[0m\u001b[0mparse\u001b[0m\u001b[0;34m.\u001b[0m\u001b[0mquote\u001b[0m\u001b[0;34m(\u001b[0m\u001b[0mms2_usi\u001b[0m\u001b[0;34m)\u001b[0m\u001b[0;34m\u001b[0m\u001b[0;34m\u001b[0m\u001b[0m\n\u001b[0m\u001b[1;32m      9\u001b[0m         \u001b[0mms1_usi\u001b[0m \u001b[0;34m=\u001b[0m \u001b[0murllib\u001b[0m\u001b[0;34m.\u001b[0m\u001b[0mparse\u001b[0m\u001b[0;34m.\u001b[0m\u001b[0mquote\u001b[0m\u001b[0;34m(\u001b[0m\u001b[0mms1_usi\u001b[0m\u001b[0;34m)\u001b[0m\u001b[0;34m\u001b[0m\u001b[0;34m\u001b[0m\u001b[0m\n\u001b[1;32m     10\u001b[0m \u001b[0;34m\u001b[0m\u001b[0m\n",
      "\u001b[0;31mNameError\u001b[0m: name 'urllib' is not defined"
     ]
    }
   ],
   "source": [
    "with open(\"../usi_summary.md\", \"w\") as outfile:\n",
    "    outfile.write(\"| Challenge Name | USI MS2 Link | USI MS1 Link | MS2 | MS1 |\\n\")\n",
    "    outfile.write(\"| -- | -- | -- | -- | -- |\\n\")\n",
    "    for msms_file in MSMS_files:\n",
    "        ms2_usi = \"mzspec:MSV000085411:{}:scan:1\".format(os.path.basename(msms_file))\n",
    "        ms1_usi = ms2_usi.replace(\"msms\", \"ms\").replace(\"MSMS\", \"MS\")\n",
    "        \n",
    "        ms2_usi = urllib.parse.quote(ms2_usi)\n",
    "        ms1_usi = urllib.parse.quote(ms1_usi)\n",
    "        \n",
    "        print(ms2_usi)\n",
    "        \n",
    "        name = os.path.basename(msms_file).replace(\".mgf\", \"\")\n",
    "        ms2_usi_link = \"https://metabolomics-usi.ucsd.edu/spectrum/?usi={}\".format(ms2_usi)\n",
    "        ms1_usi_link = \"https://metabolomics-usi.ucsd.edu/spectrum/?usi={}\".format(ms1_usi)\n",
    "        ms2_image_link = \"https://metabolomics-usi.ucsd.edu/png/?usi={}\".format(ms2_usi)\n",
    "        ms1_image_link = \"https://metabolomics-usi.ucsd.edu/png/?usi={}\".format(ms1_usi)\n",
    "        outfile.write(\"| {} | [Link]({}) | [Link]({}) | ![]({}) | ![]({}) |\\n\".format(name, ms2_usi_link, ms1_usi_link, ms2_image_link, ms1_image_link))"
   ]
  },
  {
   "cell_type": "code",
   "execution_count": null,
   "metadata": {},
   "outputs": [],
   "source": []
  }
 ],
 "metadata": {
  "kernelspec": {
   "display_name": "Python 3",
   "language": "python",
   "name": "python3"
  },
  "language_info": {
   "codemirror_mode": {
    "name": "ipython",
    "version": 3
   },
   "file_extension": ".py",
   "mimetype": "text/x-python",
   "name": "python",
   "nbconvert_exporter": "python",
   "pygments_lexer": "ipython3",
   "version": "3.7.6"
  }
 },
 "nbformat": 4,
 "nbformat_minor": 4
}
