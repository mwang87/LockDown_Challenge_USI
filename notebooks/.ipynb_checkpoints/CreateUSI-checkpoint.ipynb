{
 "cells": [
  {
   "cell_type": "code",
   "execution_count": 1,
   "metadata": {},
   "outputs": [],
   "source": [
    "import pandas as pd\n",
    "import glob\n",
    "import os"
   ]
  },
  {
   "cell_type": "code",
   "execution_count": 2,
   "metadata": {},
   "outputs": [
    {
     "data": {
      "text/plain": [
       "['../data/mgf/MSMS/msms_Challenge 1 MSMS.mgf',\n",
       " '../data/mgf/MSMS/msms_Challenge 10 MSMS.mgf',\n",
       " '../data/mgf/MSMS/msms_Challenge 11 MSMS.mgf',\n",
       " '../data/mgf/MSMS/msms_Challenge 12 MSMS.mgf',\n",
       " '../data/mgf/MSMS/msms_Challenge 13 MSMS.mgf',\n",
       " '../data/mgf/MSMS/msms_Challenge 14 MSMS.mgf',\n",
       " '../data/mgf/MSMS/msms_Challenge 15 MSMS.mgf',\n",
       " '../data/mgf/MSMS/msms_Challenge 16 MSMS.mgf',\n",
       " '../data/mgf/MSMS/msms_Challenge 2 MSMS.mgf',\n",
       " '../data/mgf/MSMS/msms_Challenge 3 MSMS.mgf',\n",
       " '../data/mgf/MSMS/msms_Challenge 4 MSMS.mgf',\n",
       " '../data/mgf/MSMS/msms_Challenge 5 MSMS.mgf',\n",
       " '../data/mgf/MSMS/msms_Challenge 6 MSMS.mgf',\n",
       " '../data/mgf/MSMS/msms_Challenge 7 MSMS.mgf',\n",
       " '../data/mgf/MSMS/msms_Challenge 8 MSMS.mgf',\n",
       " '../data/mgf/MSMS/msms_Challenge 9 MSMS.mgf']"
      ]
     },
     "execution_count": 2,
     "metadata": {},
     "output_type": "execute_result"
    }
   ],
   "source": [
    "MSMS_files = glob.glob(\"../data/mgf/MSMS/*\")\n",
    "MS_files = glob.glob(\"../data/mgf/MS/*\")\n",
    "MSMS_files"
   ]
  },
  {
   "cell_type": "code",
   "execution_count": 4,
   "metadata": {},
   "outputs": [
    {
     "name": "stdout",
     "output_type": "stream",
     "text": [
      "mzspec:MSV000085411:msms_Challenge 1 MSMS.mgf:scan:1 mzspec:MSV000085411:ms_Challenge 1 MS.mgf:scan:1\n",
      "mzspec:MSV000085411:msms_Challenge 10 MSMS.mgf:scan:1 mzspec:MSV000085411:ms_Challenge 10 MS.mgf:scan:1\n",
      "mzspec:MSV000085411:msms_Challenge 11 MSMS.mgf:scan:1 mzspec:MSV000085411:ms_Challenge 11 MS.mgf:scan:1\n",
      "mzspec:MSV000085411:msms_Challenge 12 MSMS.mgf:scan:1 mzspec:MSV000085411:ms_Challenge 12 MS.mgf:scan:1\n",
      "mzspec:MSV000085411:msms_Challenge 13 MSMS.mgf:scan:1 mzspec:MSV000085411:ms_Challenge 13 MS.mgf:scan:1\n",
      "mzspec:MSV000085411:msms_Challenge 14 MSMS.mgf:scan:1 mzspec:MSV000085411:ms_Challenge 14 MS.mgf:scan:1\n",
      "mzspec:MSV000085411:msms_Challenge 15 MSMS.mgf:scan:1 mzspec:MSV000085411:ms_Challenge 15 MS.mgf:scan:1\n",
      "mzspec:MSV000085411:msms_Challenge 16 MSMS.mgf:scan:1 mzspec:MSV000085411:ms_Challenge 16 MS.mgf:scan:1\n",
      "mzspec:MSV000085411:msms_Challenge 2 MSMS.mgf:scan:1 mzspec:MSV000085411:ms_Challenge 2 MS.mgf:scan:1\n",
      "mzspec:MSV000085411:msms_Challenge 3 MSMS.mgf:scan:1 mzspec:MSV000085411:ms_Challenge 3 MS.mgf:scan:1\n",
      "mzspec:MSV000085411:msms_Challenge 4 MSMS.mgf:scan:1 mzspec:MSV000085411:ms_Challenge 4 MS.mgf:scan:1\n",
      "mzspec:MSV000085411:msms_Challenge 5 MSMS.mgf:scan:1 mzspec:MSV000085411:ms_Challenge 5 MS.mgf:scan:1\n",
      "mzspec:MSV000085411:msms_Challenge 6 MSMS.mgf:scan:1 mzspec:MSV000085411:ms_Challenge 6 MS.mgf:scan:1\n",
      "mzspec:MSV000085411:msms_Challenge 7 MSMS.mgf:scan:1 mzspec:MSV000085411:ms_Challenge 7 MS.mgf:scan:1\n",
      "mzspec:MSV000085411:msms_Challenge 8 MSMS.mgf:scan:1 mzspec:MSV000085411:ms_Challenge 8 MS.mgf:scan:1\n",
      "mzspec:MSV000085411:msms_Challenge 9 MSMS.mgf:scan:1 mzspec:MSV000085411:ms_Challenge 9 MS.mgf:scan:1\n"
     ]
    }
   ],
   "source": [
    "with open(\"../usi_summary.md\", \"w\") as outfile:\n",
    "    outfile.write(\"| Challenge Name | USI MS2 Link | USI MS1 Link | MS2 | MS1 |\\n\")\n",
    "    outfile.write(\"| -- | -- | -- | -- | -- |\\n\")\n",
    "    for msms_file in MSMS_files:\n",
    "        ms2_usi = \"mzspec:MSV000085411:{}:scan:1\".format(os.path.basename(msms_file))\n",
    "        ms1_usi = ms2_usi.replace(\"msms\", \"ms\").replace(\"MSMS\", \"MS\")\n",
    "        print(ms2_usi, ms1_usi)\n",
    "        name = os.path.basename(msms_file).replace(\".mgf\", \"\")\n",
    "        ms2_usi_link = \"https://metabolomics-usi.ucsd.edu/spectrum/?usi={}\".format(ms2_usi)\n",
    "        ms1_usi_link = \"https://metabolomics-usi.ucsd.edu/spectrum/?usi={}\".format(ms1_usi)\n",
    "        ms2_image_link = \"https://metabolomics-usi.ucsd.edu/png/?usi={}\".format(ms2_usi)\n",
    "        ms1_image_link = \"https://metabolomics-usi.ucsd.edu/png/?usi={}\".format(ms1_usi)\n",
    "        outfile.write(\"| {} | [Link]({}) | [Link]({}) | ![]({}) | ![]({}) |\\n\".format(name, ms2_usi_link, ms1_usi_link, ms2_image_link, ms1_image_link))"
   ]
  },
  {
   "cell_type": "code",
   "execution_count": null,
   "metadata": {},
   "outputs": [],
   "source": []
  }
 ],
 "metadata": {
  "kernelspec": {
   "display_name": "Python 3",
   "language": "python",
   "name": "python3"
  },
  "language_info": {
   "codemirror_mode": {
    "name": "ipython",
    "version": 3
   },
   "file_extension": ".py",
   "mimetype": "text/x-python",
   "name": "python",
   "nbconvert_exporter": "python",
   "pygments_lexer": "ipython3",
   "version": "3.7.6"
  }
 },
 "nbformat": 4,
 "nbformat_minor": 4
}
